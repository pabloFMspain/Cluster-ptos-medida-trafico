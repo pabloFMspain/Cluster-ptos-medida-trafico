{
  "nbformat": 4,
  "nbformat_minor": 0,
  "metadata": {
    "colab": {
      "name": "Optimizacionrutamadrid.ipynb",
      "provenance": [],
      "mount_file_id": "103fm8jfJSoTHJKMEpQwAvjLrz5xjujXW",
      "authorship_tag": "ABX9TyNpQDV7frth3UYX846pinLc",
      "include_colab_link": true
    },
    "kernelspec": {
      "name": "python3",
      "display_name": "Python 3"
    }
  },
  "cells": [
    {
      "cell_type": "markdown",
      "metadata": {
        "id": "view-in-github",
        "colab_type": "text"
      },
      "source": [
        "<a href=\"https://colab.research.google.com/github/pabloFMspain/Cluster-ptos-medida-trafico/blob/main/Optimizacionrutamadrid.ipynb\" target=\"_parent\"><img src=\"https://colab.research.google.com/assets/colab-badge.svg\" alt=\"Open In Colab\"/></a>"
      ]
    },
    {
      "cell_type": "markdown",
      "metadata": {
        "id": "UEUc6u_m3x4H"
      },
      "source": [
        "0-Inizicalización no vale ver caerpeta correcta"
      ]
    },
    
  ]
}
